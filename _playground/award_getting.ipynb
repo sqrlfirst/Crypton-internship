{
 "cells": [
  {
   "cell_type": "code",
   "execution_count": 18,
   "source": [
    "import seaborn as sns\n",
    "import pandas as pd\n",
    "import numpy as np\n",
    "import matplotlib\n",
    "from matplotlib import pyplot as plt\n",
    "import random as rnd\n",
    "mat"
   ],
   "outputs": [],
   "metadata": {}
  },
  {
   "cell_type": "code",
   "execution_count": null,
   "source": [
    "# generate data for charts\n",
    "database = {'staker1': [\n",
    "            {'time': 0,\n",
    "             'staked' : 123,\n",
    "             'reward' : 0}] }\n",
    "\n",
    "for j in range(1, 50):\n",
    "    stakerName = 'staker' + str(j)\n",
    "    initialStake = rnd.randrange(20, 500)\n",
    "    database[stakerName] = [\n",
    "            {'time': 0,\n",
    "             'staked' : initialStake,\n",
    "             'reward' : 0}]\n",
    "\n",
    "for staker in database.keys():\n",
    "    for i in range(1, 20):\n",
    "        lastStake = database[staker][i-1]\n",
    "        time = lastStake['time'] + rnd.randrange(100, 2000, 50)\n",
    "        staked = lastStake['staked'] + rnd.randrange(1, 100)\n",
    "        database[staker].append({\n",
    "            'time': time,\n",
    "            'staked' : staked,\n",
    "            'reward' : 0\n",
    "        }) \n",
    "\n",
    "print(database)"
   ],
   "outputs": [],
   "metadata": {}
  },
  {
   "cell_type": "code",
   "execution_count": 24,
   "source": [
    "\n",
    "for staker in database:\n",
    "    for data in database[staker]:\n",
    "        time = []\n",
    "        staked = []\n",
    "        time.append(data['time'])\n",
    "        staked.append(data['staked'])\n",
    "        plt.plot(time, staked)\n",
    "\n",
    "plt.show()"
   ],
   "outputs": [],
   "metadata": {}
  }
 ],
 "metadata": {
  "orig_nbformat": 4,
  "language_info": {
   "name": "xonsh",
   "version": "0.6.0",
   "pygments_lexer": "xonsh",
   "codemirror_mode": "shell",
   "mimetype": "text/x-sh",
   "file_extension": ".xsh"
  },
  "kernelspec": {
   "name": "python2717jvsc74a57bd0767d51c1340bd893661ea55ea3124f6de3c7a262a8b4abca0554b478b1e2ff90",
   "display_name": "Xonsh",
   "language": "xonsh"
  }
 },
 "nbformat": 4,
 "nbformat_minor": 2
}